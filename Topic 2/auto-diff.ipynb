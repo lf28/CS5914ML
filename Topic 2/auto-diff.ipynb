{
 "cells": [
  {
   "cell_type": "markdown",
   "id": "756a5d1c",
   "metadata": {
    "slideshow": {
     "slide_type": "slide"
    }
   },
   "source": [
    "\n",
    "# CS5914 Machine Learning Algorithms\n",
    "\n",
    "\n",
    "## Auto-differentiation in Python with `autograd`\n",
    "\n",
    "<br>\n",
    "\n",
    "_Lei Fang (lf28@st-andrews.ac.uk)_\n",
    "\n",
    "University of St Andrews"
   ]
  },
  {
   "cell_type": "markdown",
   "id": "fcf380cd",
   "metadata": {
    "slideshow": {
     "slide_type": "slide"
    }
   },
   "source": [
    "## What to cover\n",
    "\n",
    "\n",
    "\n",
    "* So far, we have been deriving gradients **_by hand_**\n",
    " \n",
    " \n",
    "* It is still an in-dispensible skill in machine learning\n",
    " \n"
   ]
  },
  {
   "cell_type": "markdown",
   "id": "0fc44141",
   "metadata": {
    "slideshow": {
     "slide_type": "subslide"
    }
   },
   "source": [
    "### But... how about this?\n",
    "\n",
    "\n",
    "\n",
    "<div>\n",
    "<img src=\"https://i.stack.imgur.com/bVXaT.png\" width=\"700\"/>\n",
    "</div>"
   ]
  },
  {
   "cell_type": "markdown",
   "id": "f5bb43dc",
   "metadata": {
    "slideshow": {
     "slide_type": "fragment"
    }
   },
   "source": [
    "\n",
    "#### Even worse, we chain a lot of them together\n",
    "\n",
    "* it becomes not practical to \"derive\" the gradient **by hand**\n",
    "\n",
    "\n",
    "\n",
    "<div>\n",
    "<img src=\"https://cdn.analyticsvidhya.com/wp-content/uploads/2017/12/10131302/13.png\" width=\"700\"/>\n",
    "</div>"
   ]
  },
  {
   "cell_type": "markdown",
   "id": "bad6642d",
   "metadata": {
    "slideshow": {
     "slide_type": "slide"
    }
   },
   "source": [
    "## Auto-differentiation to rescue \n",
    "\n",
    "\n",
    "What is **Auto-differentiation** ?\n",
    "\n",
    "* computer program that differentiates numerical functions **automatically**\n",
    "\n",
    "* two modes\n",
    "  * forward mode \n",
    "  * reverse mode (we focus on reverse mode)\n",
    "\n"
   ]
  },
  {
   "cell_type": "markdown",
   "id": "641a838d",
   "metadata": {
    "slideshow": {
     "slide_type": "subslide"
    }
   },
   "source": [
    "### There are many packages out there\n",
    "\n",
    "\n",
    "#### For `Python`  (mostly reverse-mode but with forward-mode options)\n",
    "\n",
    "* `autograd` (or `JAX`) : *I will introduce this in this lecture*\n",
    "\n",
    "* `PyTorch` (it has its auto-diff engine)\n",
    "\n",
    "* `Tensorflow`\n",
    "\n"
   ]
  },
  {
   "cell_type": "markdown",
   "id": "19c512dc",
   "metadata": {
    "slideshow": {
     "slide_type": "fragment"
    }
   },
   "source": [
    "\n",
    "#### For `Julia`\n",
    "\n",
    "* `Zygote.jl`\n",
    "\n",
    "* `ReverseDiff.jl`\n",
    "\n",
    "* `ForwardDiff.jl`"
   ]
  },
  {
   "cell_type": "markdown",
   "id": "710c395d",
   "metadata": {
    "slideshow": {
     "slide_type": "slide"
    }
   },
   "source": [
    "## We will talk about auto-diff in detail later ...\n",
    "\n",
    "\n",
    "\n",
    "\n",
    "#### This time, we will just demonstrate how to use \n",
    "\n",
    "* given some program written in `Python`, how can we compute the gradient\n",
    "\n",
    "\n",
    "\n",
    "\n"
   ]
  },
  {
   "cell_type": "markdown",
   "id": "5f6e15c2",
   "metadata": {
    "slideshow": {
     "slide_type": "fragment"
    }
   },
   "source": [
    "#### In Topic 11, we will learn how aut-diff work in detail\n",
    "\n",
    "* we dedicate one whole topic to **backpropagation**: an acronym for reverse-mode auto differentation\n",
    "\n",
    "* we will talk about how auto-diff works and how to implement something similar from scratch !"
   ]
  },
  {
   "cell_type": "markdown",
   "id": "65bb8201",
   "metadata": {
    "slideshow": {
     "slide_type": "slide"
    }
   },
   "source": [
    "## Get started \n",
    "\n",
    "\n",
    "The first step is to install `autograd` package \n",
    "\n",
    "\n",
    "The package website: https://github.com/HIPS/autograd\n",
    "\n",
    "\n",
    "Installation with `pip`\n",
    "\n",
    "```\n",
    "pip install autograd\n",
    "```\n",
    "\n",
    "\n",
    "Alternatively, with `conda`\n",
    "\n",
    "```\n",
    "conda -c conda-forge install autograd\n",
    "```"
   ]
  },
  {
   "cell_type": "markdown",
   "id": "68f503fe",
   "metadata": {
    "slideshow": {
     "slide_type": "slide"
    }
   },
   "source": [
    "## Import the package"
   ]
  },
  {
   "cell_type": "code",
   "execution_count": 1,
   "id": "7ed6f0d5",
   "metadata": {
    "slideshow": {
     "slide_type": "fragment"
    }
   },
   "outputs": [],
   "source": [
    "import autograd.numpy as np  # Thinly-wrapped numpy\n",
    "from autograd import grad    # The only autograd function you may ever need\n",
    "import matplotlib.pyplot as plt"
   ]
  },
  {
   "cell_type": "markdown",
   "id": "9b33f017",
   "metadata": {
    "slideshow": {
     "slide_type": "slide"
    }
   },
   "source": [
    "## An example\n",
    "\n",
    "\n",
    "Compute the gradient of the `logistic` (also known as `sigmoid`) function\n",
    "\n",
    "\n",
    "**Logistic (Sigmoid)**: \n",
    "\n",
    "\n",
    "$$\\sigma(x) = \\frac{1}{1 + e^{-x}}$$\n",
    "\n",
    "<br>\n",
    "\n",
    "Its gradient is (for later reference)\n",
    "\n",
    "\n",
    "\n",
    "$$\\frac{d}{dx}\\sigma(x)= \\sigma'(x) = \\sigma(x) (1-\\sigma(x)) = \\frac{1}{1 + e^{-x}} \\left (1- \\frac{1}{1 + e^{-x}}\\right )$$"
   ]
  },
  {
   "cell_type": "code",
   "execution_count": 2,
   "id": "bdef28ed",
   "metadata": {
    "slideshow": {
     "slide_type": "subslide"
    }
   },
   "outputs": [],
   "source": [
    "# Define a function\n",
    "def sigmoid(x):                 \n",
    "    y = np.exp(-1.0 * x)\n",
    "    return 1.0 / (1.0 + y)\n",
    "\n",
    "# Define the gradient by hand (hand derived )\n",
    "def my_dsigmoid(x):\n",
    "    s = sigmoid(x)\n",
    "    return s * (1-s)"
   ]
  },
  {
   "cell_type": "markdown",
   "id": "b8925e46",
   "metadata": {
    "slideshow": {
     "slide_type": "subslide"
    }
   },
   "source": [
    "## An example (plot)\n",
    "\n",
    "\n",
    "**Logistic (Sigmoid)**: \n",
    "\n",
    "\n",
    "$$\\sigma(x) = \\frac{1}{1 + e^{-x}}$$\n"
   ]
  },
  {
   "cell_type": "code",
   "execution_count": 3,
   "id": "734806f8",
   "metadata": {
    "slideshow": {
     "slide_type": "fragment"
    }
   },
   "outputs": [
    {
     "data": {
      "text/plain": [
       "<matplotlib.legend.Legend at 0x7f379e30aa50>"
      ]
     },
     "execution_count": 3,
     "metadata": {},
     "output_type": "execute_result"
    },
    {
     "data": {
      "image/png": "[encoded data removed]",
      "text/plain": [
       "<Figure size 640x480 with 1 Axes>"
      ]
     },
     "metadata": {},
     "output_type": "display_data"
    }
   ],
   "source": [
    "fig = plt.figure()\n",
    "x = np.linspace(-7, 7, 200)\n",
    "plt.plot(x, sigmoid(x), label=r'logistic function: $\\sigma(x)$')\n",
    "plt.legend()"
   ]
  },
  {
   "cell_type": "markdown",
   "id": "61e6a8b2",
   "metadata": {
    "slideshow": {
     "slide_type": "subslide"
    }
   },
   "source": [
    "## Use `grad` function"
   ]
  },
  {
   "cell_type": "code",
   "execution_count": 57,
   "id": "99634394",
   "metadata": {
    "slideshow": {
     "slide_type": "fragment"
    }
   },
   "outputs": [],
   "source": [
    "dsigmoid = grad(sigmoid)       # Obtain its gradient function"
   ]
  },
  {
   "cell_type": "code",
   "execution_count": 62,
   "id": "984d91cb",
   "metadata": {
    "slideshow": {
     "slide_type": "fragment"
    }
   },
   "outputs": [
    {
     "data": {
      "text/plain": [
       "0.25"
      ]
     },
     "execution_count": 62,
     "metadata": {},
     "output_type": "execute_result"
    }
   ],
   "source": [
    "dsigmoid(0.0) # grad_sigmoid(1) will return an error!"
   ]
  },
  {
   "cell_type": "code",
   "execution_count": 6,
   "id": "13addc81",
   "metadata": {
    "slideshow": {
     "slide_type": "fragment"
    }
   },
   "outputs": [
    {
     "data": {
      "text/plain": [
       "2.7755575615628914e-17"
      ]
     },
     "execution_count": 6,
     "metadata": {},
     "output_type": "execute_result"
    }
   ],
   "source": [
    "dsigmoid(1.0) - my_dsigmoid(1.0)"
   ]
  },
  {
   "cell_type": "markdown",
   "id": "2cb76a98",
   "metadata": {
    "slideshow": {
     "slide_type": "subslide"
    }
   },
   "source": [
    "## Use element-wise `egrad`"
   ]
  },
  {
   "cell_type": "code",
   "execution_count": 65,
   "id": "6d3db608",
   "metadata": {
    "slideshow": {
     "slide_type": "fragment"
    }
   },
   "outputs": [
    {
     "ename": "TypeError",
     "evalue": "Grad only applies to real scalar-output functions. Try jacobian, elementwise_grad or holomorphic_grad.",
     "output_type": "error",
     "traceback": [
      "\u001b[0;31m---------------------------------------------------------------------------\u001b[0m",
      "\u001b[0;31mTypeError\u001b[0m                                 Traceback (most recent call last)",
      "Cell \u001b[0;32mIn[65], line 2\u001b[0m\n\u001b[1;32m      1\u001b[0m x_random \u001b[38;5;241m=\u001b[39m np\u001b[38;5;241m.\u001b[39mrandom\u001b[38;5;241m.\u001b[39mrandn(\u001b[38;5;241m10\u001b[39m)\n\u001b[0;32m----> 2\u001b[0m np\u001b[38;5;241m.\u001b[39misclose(dsigmoid(x_random) \u001b[38;5;241m-\u001b[39m my_dsigmoid(x_random))\n",
      "File \u001b[0;32m~/anaconda3/envs/cs5914/lib/python3.11/site-packages/autograd/wrap_util.py:20\u001b[0m, in \u001b[0;36munary_to_nary.<locals>.nary_operator.<locals>.nary_f\u001b[0;34m(*args, **kwargs)\u001b[0m\n\u001b[1;32m     18\u001b[0m \u001b[38;5;28;01melse\u001b[39;00m:\n\u001b[1;32m     19\u001b[0m     x \u001b[38;5;241m=\u001b[39m \u001b[38;5;28mtuple\u001b[39m(args[i] \u001b[38;5;28;01mfor\u001b[39;00m i \u001b[38;5;129;01min\u001b[39;00m argnum)\n\u001b[0;32m---> 20\u001b[0m \u001b[38;5;28;01mreturn\u001b[39;00m unary_operator(unary_f, x, \u001b[38;5;241m*\u001b[39mnary_op_args, \u001b[38;5;241m*\u001b[39m\u001b[38;5;241m*\u001b[39mnary_op_kwargs)\n",
      "File \u001b[0;32m~/anaconda3/envs/cs5914/lib/python3.11/site-packages/autograd/differential_operators.py:30\u001b[0m, in \u001b[0;36mgrad\u001b[0;34m(fun, x)\u001b[0m\n\u001b[1;32m     28\u001b[0m vjp, ans \u001b[38;5;241m=\u001b[39m _make_vjp(fun, x)\n\u001b[1;32m     29\u001b[0m \u001b[38;5;28;01mif\u001b[39;00m \u001b[38;5;129;01mnot\u001b[39;00m vspace(ans)\u001b[38;5;241m.\u001b[39msize \u001b[38;5;241m==\u001b[39m \u001b[38;5;241m1\u001b[39m:\n\u001b[0;32m---> 30\u001b[0m     \u001b[38;5;28;01mraise\u001b[39;00m \u001b[38;5;167;01mTypeError\u001b[39;00m(\u001b[38;5;124m\"\u001b[39m\u001b[38;5;124mGrad only applies to real scalar-output functions. \u001b[39m\u001b[38;5;124m\"\u001b[39m\n\u001b[1;32m     31\u001b[0m                     \u001b[38;5;124m\"\u001b[39m\u001b[38;5;124mTry jacobian, elementwise_grad or holomorphic_grad.\u001b[39m\u001b[38;5;124m\"\u001b[39m)\n\u001b[1;32m     32\u001b[0m \u001b[38;5;28;01mreturn\u001b[39;00m vjp(vspace(ans)\u001b[38;5;241m.\u001b[39mones())\n",
      "\u001b[0;31mTypeError\u001b[0m: Grad only applies to real scalar-output functions. Try jacobian, elementwise_grad or holomorphic_grad."
     ]
    }
   ],
   "source": [
    "x_random = np.random.randn(10)\n",
    "np.isclose(dsigmoid(x_random) - my_dsigmoid(x_random))"
   ]
  },
  {
   "cell_type": "code",
   "execution_count": 8,
   "id": "fa9a122b",
   "metadata": {
    "slideshow": {
     "slide_type": "subslide"
    }
   },
   "outputs": [
    {
     "data": {
      "text/plain": [
       "array([ True,  True,  True,  True,  True,  True,  True,  True,  True,\n",
       "        True])"
      ]
     },
     "execution_count": 8,
     "metadata": {},
     "output_type": "execute_result"
    }
   ],
   "source": [
    "from autograd import elementwise_grad as egrad\n",
    "np.isclose(egrad(sigmoid)(x_random), my_dsigmoid(x_random))"
   ]
  },
  {
   "cell_type": "markdown",
   "id": "54d133c6",
   "metadata": {
    "slideshow": {
     "slide_type": "subslide"
    }
   },
   "source": [
    "## Higher order gradients"
   ]
  },
  {
   "cell_type": "code",
   "execution_count": 9,
   "id": "82b40b8c",
   "metadata": {
    "slideshow": {
     "slide_type": "fragment"
    }
   },
   "outputs": [
    {
     "data": {
      "text/plain": [
       "<matplotlib.legend.Legend at 0x7f37d7b1d410>"
      ]
     },
     "execution_count": 9,
     "metadata": {},
     "output_type": "execute_result"
    },
    {
     "data": {
      "image/png": "[encoded data removed]",
      "text/plain": [
       "<Figure size 640x480 with 1 Axes>"
      ]
     },
     "metadata": {},
     "output_type": "display_data"
    }
   ],
   "source": [
    "fig = plt.figure()\n",
    "x = np.linspace(-7, 7, 200)\n",
    "plt.plot(x, sigmoid(x), label=r'logistic function: $\\sigma(x)$')\n",
    "plt.plot(x, egrad(sigmoid)(x), label=r\"logistic function's grad: $\\sigma'(x)$\")\n",
    "plt.plot(x, egrad(egrad(sigmoid))(x), label=r\"logistic function's second grad: $\\sigma''(x)$\")\n",
    "plt.legend()"
   ]
  },
  {
   "cell_type": "markdown",
   "id": "d139ad0f",
   "metadata": {
    "slideshow": {
     "slide_type": "slide"
    }
   },
   "source": [
    "# More example\n",
    "\n",
    "$$\\large f(w_1, w_2) = \\frac{1}{4} (w_1^4 + w_2^4) -\\frac{1}{3} (w_1^3 +w_2^3) - w_1^2 -w_2^2 +4$$"
   ]
  },
  {
   "cell_type": "code",
   "execution_count": 10,
   "id": "11701b96",
   "metadata": {
    "slideshow": {
     "slide_type": "fragment"
    }
   },
   "outputs": [],
   "source": [
    "def ffun(w):\n",
    "    w1, w2 = w[0], w[1]\n",
    "    return 1.0/4.0 * (w1**4 + w2**4) - 1.0/3.0 * (w1**3 + w2**3) - w1**2  -w2**2 +4.0"
   ]
  },
  {
   "cell_type": "code",
   "execution_count": 11,
   "id": "7c8a011e",
   "metadata": {
    "slideshow": {
     "slide_type": "fragment"
    }
   },
   "outputs": [
    {
     "data": {
      "text/plain": [
       "1.8333333333333335"
      ]
     },
     "execution_count": 11,
     "metadata": {},
     "output_type": "execute_result"
    }
   ],
   "source": [
    "# ffun(np.array)\n",
    "ffun(np.array([1.0, 1.0]))"
   ]
  },
  {
   "cell_type": "markdown",
   "id": "f2581d58",
   "metadata": {
    "slideshow": {
     "slide_type": "fragment"
    }
   },
   "source": [
    "#### Take gradient with auto-diff"
   ]
  },
  {
   "cell_type": "code",
   "execution_count": 12,
   "id": "fc34b489",
   "metadata": {
    "slideshow": {
     "slide_type": "fragment"
    }
   },
   "outputs": [
    {
     "data": {
      "text/plain": [
       "array([-2., -2.])"
      ]
     },
     "execution_count": 12,
     "metadata": {},
     "output_type": "execute_result"
    }
   ],
   "source": [
    "grad(ffun)(np.ones(2))"
   ]
  },
  {
   "cell_type": "markdown",
   "id": "d912121d",
   "metadata": {
    "slideshow": {
     "slide_type": "subslide"
    }
   },
   "source": [
    "## Both value and grad: `value_and_grad`"
   ]
  },
  {
   "cell_type": "code",
   "execution_count": 13,
   "id": "f4e8f53b",
   "metadata": {
    "slideshow": {
     "slide_type": "fragment"
    }
   },
   "outputs": [],
   "source": [
    "from autograd import value_and_grad\n",
    "dfdw = value_and_grad(ffun)"
   ]
  },
  {
   "cell_type": "code",
   "execution_count": 14,
   "id": "baa3c7be",
   "metadata": {
    "slideshow": {
     "slide_type": "fragment"
    }
   },
   "outputs": [
    {
     "data": {
      "text/plain": [
       "(1.8333333333333335, array([-2., -2.]))"
      ]
     },
     "execution_count": 14,
     "metadata": {},
     "output_type": "execute_result"
    }
   ],
   "source": [
    "dfdw(np.ones(2))"
   ]
  },
  {
   "cell_type": "code",
   "execution_count": 15,
   "id": "b203a37a",
   "metadata": {
    "slideshow": {
     "slide_type": "fragment"
    }
   },
   "outputs": [
    {
     "data": {
      "text/plain": [
       "1.8333333333333335"
      ]
     },
     "execution_count": 15,
     "metadata": {},
     "output_type": "execute_result"
    }
   ],
   "source": [
    "ffun(np.ones(2))"
   ]
  },
  {
   "cell_type": "markdown",
   "id": "b573c9d7",
   "metadata": {
    "slideshow": {
     "slide_type": "subslide"
    }
   },
   "source": [
    "## Gradient check with finite differences\n",
    "\n",
    "\n",
    "Finite difference gradient check:\n",
    "\n",
    "$$\\large\n",
    "\\frac{\\partial f(\\mathbf{x})}{\\partial x_i} \\approx \\frac{f(\\mathbf{x}+ \\epsilon \\cdot \\mathbf{e}_i) - f(\\mathbf{x})}{\\epsilon}$$"
   ]
  },
  {
   "cell_type": "code",
   "execution_count": 16,
   "id": "388afcb9",
   "metadata": {
    "slideshow": {
     "slide_type": "fragment"
    }
   },
   "outputs": [],
   "source": [
    "def finite_diff_gradient(f, initial, eps=1e-6):\n",
    "    initial = np.array(initial, dtype=float)\n",
    "    n = len(initial)\n",
    "    output = np.zeros(n)\n",
    "    for i in range(n):\n",
    "        ei = np.zeros(n)\n",
    "        ei[i] = 1\n",
    "        f1 = f(initial + eps * ei)\n",
    "        f2 = f(initial - eps * ei)\n",
    "        output[i] = (f1-f2)/(2*eps)\n",
    "#     output = output.reshape(n, 1)\n",
    "    return output"
   ]
  },
  {
   "cell_type": "code",
   "execution_count": 17,
   "id": "6d7c5b10",
   "metadata": {
    "slideshow": {
     "slide_type": "fragment"
    }
   },
   "outputs": [
    {
     "data": {
      "text/plain": [
       "array([ 0.36028518, -1.03118514])"
      ]
     },
     "execution_count": 17,
     "metadata": {},
     "output_type": "execute_result"
    }
   ],
   "source": [
    "w_test = np.random.randn(2)\n",
    "finite_diff_gradient(ffun, w_test) # finite difference method"
   ]
  },
  {
   "cell_type": "code",
   "execution_count": 18,
   "id": "65a6dd28",
   "metadata": {
    "slideshow": {
     "slide_type": "fragment"
    }
   },
   "outputs": [
    {
     "data": {
      "text/plain": [
       "array([ 0.36028518, -1.03118514])"
      ]
     },
     "execution_count": 18,
     "metadata": {},
     "output_type": "execute_result"
    }
   ],
   "source": [
    "dfdw(w_test)[1] # auto-diff"
   ]
  },
  {
   "cell_type": "markdown",
   "id": "0d073ceb",
   "metadata": {
    "slideshow": {
     "slide_type": "slide"
    }
   },
   "source": [
    "## Gradient descent \n",
    "\n",
    "<br>\n",
    "\n",
    "----\n",
    "\n",
    "\n",
    "**Bach gradient descent algorithm:**\n",
    "\n",
    "\n",
    "\n",
    "* random guess $\\large\\mathbf{w}_0$\n",
    "\n",
    "* while **not converge**\n",
    "  * $\\large\\mathbf{w}_t \\leftarrow \\mathbf{w}_{t-1} - \\gamma \\nabla f(\\mathbf{w}_{t-1})$\n",
    "-----\n"
   ]
  },
  {
   "cell_type": "code",
   "execution_count": 19,
   "id": "5e0f9fe9",
   "metadata": {
    "slideshow": {
     "slide_type": "fragment"
    }
   },
   "outputs": [],
   "source": [
    "def gradient_descent(f, gamma, max_iters, w_init):\n",
    "    # auto-diff the function f\n",
    "    gradient = value_and_grad(f)\n",
    "    w = w_init\n",
    "    # gradient descent loop\n",
    "    w_history = [w] # weight history container \n",
    "    f_history = [f(w)]\n",
    "    \n",
    "    for k in range(max_iters):\n",
    "        \n",
    "        # evaluate the gradient\n",
    "        fw, gradw = gradient(w)\n",
    "        \n",
    "        \n",
    "        # take gradient descent step\n",
    "        w = w - gamma * gradw\n",
    "        \n",
    "        # record the trajectory of w and function value\n",
    "        w_history.append(w)\n",
    "        f_history.append(fw)\n",
    "        \n",
    "    return w_history, f_history"
   ]
  },
  {
   "cell_type": "code",
   "execution_count": 20,
   "id": "38b0d475",
   "metadata": {
    "slideshow": {
     "slide_type": "subslide"
    }
   },
   "outputs": [],
   "source": [
    "ws, fs = gradient_descent(ffun, 0.01, 1_000, np.array([3.5, -2.0]))"
   ]
  },
  {
   "cell_type": "code",
   "execution_count": 21,
   "id": "f0668b20",
   "metadata": {
    "slideshow": {
     "slide_type": "fragment"
    }
   },
   "outputs": [
    {
     "data": {
      "text/plain": [
       "[<matplotlib.lines.Line2D at 0x7f379ce0a890>]"
      ]
     },
     "execution_count": 21,
     "metadata": {},
     "output_type": "execute_result"
    },
    {
     "data": {
      "image/png": "[encoded data removed]",
      "text/plain": [
       "<Figure size 640x480 with 1 Axes>"
      ]
     },
     "metadata": {},
     "output_type": "display_data"
    }
   ],
   "source": [
    "plt.plot(fs)"
   ]
  },
  {
   "cell_type": "code",
   "execution_count": 22,
   "id": "fa669585",
   "metadata": {
    "slideshow": {
     "slide_type": "subslide"
    }
   },
   "outputs": [
    {
     "data": {
      "text/plain": [
       "array([ 2., -1.])"
      ]
     },
     "execution_count": 22,
     "metadata": {},
     "output_type": "execute_result"
    }
   ],
   "source": [
    "ws[-1] # the converged parameter at the end"
   ]
  },
  {
   "cell_type": "markdown",
   "id": "a8590dec",
   "metadata": {
    "slideshow": {
     "slide_type": "fragment"
    }
   },
   "source": [
    "<div>\n",
    "<img src=\"https://leo.host.cs.st-andrews.ac.uk/figs/CS5914/gd_gif_botright.gif\" width=\"700\"/>\n",
    "</div>"
   ]
  },
  {
   "cell_type": "markdown",
   "id": "68b4976a",
   "metadata": {
    "slideshow": {
     "slide_type": "subslide"
    }
   },
   "source": [
    "## A different starting location"
   ]
  },
  {
   "cell_type": "code",
   "execution_count": 23,
   "id": "0f6aa2df",
   "metadata": {
    "slideshow": {
     "slide_type": "fragment"
    }
   },
   "outputs": [
    {
     "data": {
      "text/plain": [
       "array([-1.,  2.])"
      ]
     },
     "execution_count": 23,
     "metadata": {},
     "output_type": "execute_result"
    }
   ],
   "source": [
    "ws, fs = gradient_descent(ffun, 0.01, 1_000, np.array([-3.0, 3.0]))\n",
    "ws[-1] # "
   ]
  },
  {
   "cell_type": "markdown",
   "id": "28b0ee73",
   "metadata": {
    "slideshow": {
     "slide_type": "fragment"
    }
   },
   "source": [
    "<div>\n",
    "<img src=\"https://leo.host.cs.st-andrews.ac.uk/figs/CS5914/gd_gif_topleft.gif\" width=\"700\"/>\n",
    "</div>"
   ]
  },
  {
   "cell_type": "markdown",
   "id": "81fec20f",
   "metadata": {
    "slideshow": {
     "slide_type": "slide"
    }
   },
   "source": [
    "## Matrix valued functions\n",
    "\n",
    "\n",
    "\n",
    "$$\\large f(\\mathbf{W}) = \\frac{1}{2} \\sum_{i=1}^m\\sum_{j=1}^n \\mathbf{W}_{i,j}^2$$\n",
    "\n",
    "\n",
    "* widely used for regularisation \n",
    "\n",
    "* its gradient is surprisingly simple \n",
    "\n",
    "$$\\large \\nabla f(\\mathbf{W}) = \\mathbf{W}$$\n"
   ]
  },
  {
   "cell_type": "code",
   "execution_count": 66,
   "id": "61be2b82",
   "metadata": {
    "slideshow": {
     "slide_type": "fragment"
    }
   },
   "outputs": [],
   "source": [
    "def fun_matrix(W):\n",
    "    return .5 * np.sum(W**2)"
   ]
  },
  {
   "cell_type": "code",
   "execution_count": 67,
   "id": "cc7fc130",
   "metadata": {
    "slideshow": {
     "slide_type": "fragment"
    }
   },
   "outputs": [
    {
     "data": {
      "text/plain": [
       "15.0"
      ]
     },
     "execution_count": 67,
     "metadata": {},
     "output_type": "execute_result"
    }
   ],
   "source": [
    "W = np.array([[1., 2] , [3, 4]])\n",
    "fun_matrix(W)"
   ]
  },
  {
   "cell_type": "code",
   "execution_count": 26,
   "id": "8f2e145a",
   "metadata": {
    "slideshow": {
     "slide_type": "fragment"
    }
   },
   "outputs": [
    {
     "data": {
      "text/plain": [
       "array([[1., 2.],\n",
       "       [3., 4.]])"
      ]
     },
     "execution_count": 26,
     "metadata": {},
     "output_type": "execute_result"
    }
   ],
   "source": [
    "grad(fun_matrix)(W) # as expected "
   ]
  },
  {
   "cell_type": "markdown",
   "id": "ecc5ad42",
   "metadata": {
    "slideshow": {
     "slide_type": "slide"
    }
   },
   "source": [
    "## Multiple parameter functions\n",
    "\n",
    "\n",
    "$$\\large g(a, \\mathbf{b}, \\mathbf{C}) = (a + \\mathbf{z}^\\top \\mathbf{b} + \\mathbf{z}^\\top \\mathbf{C} \\mathbf{z})^2$$\n",
    "\n",
    "\n",
    "* the input parameters are $a$, $\\mathbf{b}$, and $\\mathbf{C}$\n",
    "  * scalar, vector and matrix\n",
    "\n",
    "* $\\mathbf{z}$ is some fixed constant \n",
    "\n",
    "\n",
    "And we want to compute \n",
    "\n",
    "\n",
    "$$\\large \\frac{\\partial g}{\\partial a}, \\frac{\\partial g}{\\partial \\mathbf{b}}, \\frac{\\partial g}{\\partial \\mathbf{C}}$$"
   ]
  },
  {
   "cell_type": "code",
   "execution_count": 27,
   "id": "f37667ab",
   "metadata": {
    "slideshow": {
     "slide_type": "fragment"
    }
   },
   "outputs": [],
   "source": [
    "def gfun_multi(a, b, C):\n",
    "    return (((a + np.dot(z.T, b) + np.dot(np.dot(z.T, C), z))) **2)"
   ]
  },
  {
   "cell_type": "code",
   "execution_count": 28,
   "id": "2dcece66",
   "metadata": {
    "slideshow": {
     "slide_type": "fragment"
    }
   },
   "outputs": [
    {
     "data": {
      "text/plain": [
       "55.285639980449275"
      ]
     },
     "execution_count": 28,
     "metadata": {},
     "output_type": "execute_result"
    }
   ],
   "source": [
    "z = np.random.rand(3)\n",
    "a, b, C = 1.0, np.array([1,2,3]), np.random.randn(3,3)\n",
    "gfun_multi(a,  b, C)"
   ]
  },
  {
   "cell_type": "markdown",
   "id": "6abfef98",
   "metadata": {
    "slideshow": {
     "slide_type": "subslide"
    }
   },
   "source": [
    "## Use `grad(fun, index)`\n",
    "\n",
    "\n",
    "\n",
    "\n",
    "```python\n",
    "def gfun_multi(a, b, C):\n",
    "    return (((a + np.dot(z.T, b) + np.dot(np.dot(z.T, C), z))) **2)\n",
    "```\n",
    "\n",
    "* `index`: 0, 1, 2, ...; the index of the input parameter\n",
    "\n",
    "* `0`: a\n",
    "* `1`: b\n",
    "* ...\n"
   ]
  },
  {
   "cell_type": "code",
   "execution_count": 29,
   "id": "66a97f36",
   "metadata": {
    "slideshow": {
     "slide_type": "fragment"
    }
   },
   "outputs": [
    {
     "data": {
      "text/plain": [
       "14.870862783369265"
      ]
     },
     "execution_count": 29,
     "metadata": {},
     "output_type": "execute_result"
    }
   ],
   "source": [
    "grad(gfun_multi, 0)(a, b, C) # dg/da"
   ]
  },
  {
   "cell_type": "code",
   "execution_count": 30,
   "id": "9d17d16c",
   "metadata": {
    "slideshow": {
     "slide_type": "fragment"
    }
   },
   "outputs": [
    {
     "data": {
      "text/plain": [
       "array([ 2, 10, 10])"
      ]
     },
     "execution_count": 30,
     "metadata": {},
     "output_type": "execute_result"
    }
   ],
   "source": [
    "grad(gfun_multi, 1)(a, b, C) # dg/db"
   ]
  },
  {
   "cell_type": "code",
   "execution_count": 31,
   "id": "ef7ae67d",
   "metadata": {
    "slideshow": {
     "slide_type": "fragment"
    }
   },
   "outputs": [
    {
     "data": {
      "text/plain": [
       "array([[0.54627988, 2.05401193, 1.93706837],\n",
       "       [2.05401193, 7.72308337, 7.28337566],\n",
       "       [1.93706837, 7.28337566, 6.86870236]])"
      ]
     },
     "execution_count": 31,
     "metadata": {},
     "output_type": "execute_result"
    }
   ],
   "source": [
    "grad(gfun_multi, 2)(a, b, C) # dg/dC"
   ]
  },
  {
   "cell_type": "markdown",
   "id": "fa905e21",
   "metadata": {
    "slideshow": {
     "slide_type": "slide"
    }
   },
   "source": [
    "## Linear regression example\n",
    "\n",
    "\n",
    "Let's first simulate some dataset\n",
    "\n",
    "\n",
    "\n",
    "$$y^{(i)} = \\mathbf{w}^\\top \\mathbf{x}^{(i)} + b + \\epsilon$$\n",
    "\n",
    "\n",
    "or in matrix\n",
    "\n",
    "\n",
    "$$\\mathbf{y} =\\mathbf{X} \\mathbf{w}\\, .+\\, {b} + \\texttt{noise}$$"
   ]
  },
  {
   "cell_type": "code",
   "execution_count": 32,
   "id": "a1c1e46a",
   "metadata": {
    "slideshow": {
     "slide_type": "fragment"
    }
   },
   "outputs": [],
   "source": [
    "num_features = 2\n",
    "num_data = 100\n",
    "true_w = np.random.rand(num_features) * 5\n",
    "true_b = 2.0\n",
    "# simulate the design matrix or input features\n",
    "X_train = np.random.rand(num_data, num_features) * 4. - 2.\n",
    "# generate the noisy observations\n",
    "y_train = np.dot(X_train, true_w) + true_b + np.random.randn(num_data) "
   ]
  },
  {
   "cell_type": "markdown",
   "id": "89541a95",
   "metadata": {
    "slideshow": {
     "slide_type": "subslide"
    }
   },
   "source": [
    "## Loss function\n",
    "\n",
    "\n",
    "$$L(\\mathbf{w}) = \\frac{1}{2n}\\sum_{i=1}^n (y^{(i)} - h(\\mathbf{x}^{(i)}; \\mathbf{w}))^2$$\n",
    "\n",
    "\n",
    "* where $h(\\mathbf{x}^{(i)}; \\mathbf{w}) = \\mathbf{w}^\\top\\mathbf{x}^{(i)} + b$"
   ]
  },
  {
   "cell_type": "code",
   "execution_count": 33,
   "id": "68462026",
   "metadata": {
    "slideshow": {
     "slide_type": "fragment"
    }
   },
   "outputs": [],
   "source": [
    "def loss(w, b):\n",
    "    y_pred = np.dot(X_train, w) + b\n",
    "    error = y_train - y_pred\n",
    "    return (0.5 / len(y_train))* np.sum(error ** 2) "
   ]
  },
  {
   "cell_type": "code",
   "execution_count": 34,
   "id": "0ba6e30f",
   "metadata": {
    "slideshow": {
     "slide_type": "fragment"
    }
   },
   "outputs": [
    {
     "data": {
      "text/plain": [
       "2.8278561075111583"
      ]
     },
     "execution_count": 34,
     "metadata": {},
     "output_type": "execute_result"
    }
   ],
   "source": [
    "w_guess = np.array([1., 2.])\n",
    "b_guess = 3.0\n",
    "loss(w_guess, b_guess)"
   ]
  },
  {
   "cell_type": "markdown",
   "id": "a2c167c9",
   "metadata": {
    "slideshow": {
     "slide_type": "subslide"
    }
   },
   "source": [
    "## Auto-diff the gradient with `grad`\n",
    "\n",
    "\n",
    "#### Two inputs: `w` and `b`: index with 0 and 1 respectively"
   ]
  },
  {
   "cell_type": "code",
   "execution_count": 37,
   "id": "d4252089",
   "metadata": {
    "slideshow": {
     "slide_type": "fragment"
    }
   },
   "outputs": [
    {
     "data": {
      "text/plain": [
       "(array([ 0.70743303, -2.189569  ]), 0.8517441845071152)"
      ]
     },
     "execution_count": 37,
     "metadata": {},
     "output_type": "execute_result"
    }
   ],
   "source": [
    "grad(loss, 0)(w_guess, b_guess), grad(loss, 1)(w_guess, b_guess)"
   ]
  },
  {
   "cell_type": "markdown",
   "id": "97055aed",
   "metadata": {
    "slideshow": {
     "slide_type": "subslide"
    }
   },
   "source": [
    "## Flatten the parameters\n",
    "\n",
    "\n",
    "It is more convenient to deal with one vector rather than multiple parameters\n",
    "\n",
    "\n",
    "* solution: flatten all the parameters into one big vector"
   ]
  },
  {
   "cell_type": "code",
   "execution_count": 38,
   "id": "0f6a5bbd",
   "metadata": {
    "slideshow": {
     "slide_type": "fragment"
    }
   },
   "outputs": [],
   "source": [
    "from autograd.misc.flatten import flatten_func"
   ]
  },
  {
   "cell_type": "code",
   "execution_count": 39,
   "id": "4f568d29",
   "metadata": {
    "slideshow": {
     "slide_type": "fragment"
    }
   },
   "outputs": [],
   "source": [
    "params = [w_guess, b_guess]"
   ]
  },
  {
   "cell_type": "code",
   "execution_count": 44,
   "id": "0fa06576",
   "metadata": {
    "slideshow": {
     "slide_type": "fragment"
    }
   },
   "outputs": [],
   "source": [
    "def loss_with_params(params):\n",
    "    w = params[0]\n",
    "    b = params[1]\n",
    "    return loss(w, b)"
   ]
  },
  {
   "cell_type": "code",
   "execution_count": 45,
   "id": "90d11f07",
   "metadata": {
    "slideshow": {
     "slide_type": "fragment"
    }
   },
   "outputs": [],
   "source": [
    "loss_flat, unflatten_fun, ps = flatten_func(loss_with_params, params)"
   ]
  },
  {
   "cell_type": "code",
   "execution_count": 46,
   "id": "4850c760",
   "metadata": {
    "slideshow": {
     "slide_type": "fragment"
    }
   },
   "outputs": [
    {
     "data": {
      "text/plain": [
       "array([1., 2., 3.])"
      ]
     },
     "execution_count": 46,
     "metadata": {},
     "output_type": "execute_result"
    }
   ],
   "source": [
    "ps"
   ]
  },
  {
   "cell_type": "code",
   "execution_count": 47,
   "id": "21f9aab2",
   "metadata": {
    "slideshow": {
     "slide_type": "fragment"
    }
   },
   "outputs": [
    {
     "data": {
      "text/plain": [
       "(2.8278561075111583, 2.8278561075111583, 2.8278561075111583)"
      ]
     },
     "execution_count": 47,
     "metadata": {},
     "output_type": "execute_result"
    }
   ],
   "source": [
    "loss_flat(ps)[0], loss_with_params(params), loss(w_guess, b_guess)"
   ]
  },
  {
   "cell_type": "code",
   "execution_count": 48,
   "id": "4ad9e0c2",
   "metadata": {
    "slideshow": {
     "slide_type": "fragment"
    }
   },
   "outputs": [
    {
     "data": {
      "text/plain": [
       "[array([1., 2.]), array(3.)]"
      ]
     },
     "execution_count": 48,
     "metadata": {},
     "output_type": "execute_result"
    }
   ],
   "source": [
    "unflatten_fun(ps)"
   ]
  },
  {
   "cell_type": "markdown",
   "id": "93ce5405",
   "metadata": {
    "slideshow": {
     "slide_type": "subslide"
    }
   },
   "source": [
    "## Linear regression learning with gradient descent "
   ]
  },
  {
   "cell_type": "code",
   "execution_count": 49,
   "id": "b296e87a",
   "metadata": {
    "slideshow": {
     "slide_type": "fragment"
    }
   },
   "outputs": [],
   "source": [
    "weights, losses = gradient_descent(loss_flat, 0.01, 2_000, np.zeros(3))"
   ]
  },
  {
   "cell_type": "code",
   "execution_count": 50,
   "id": "f6d0db84",
   "metadata": {
    "slideshow": {
     "slide_type": "fragment"
    }
   },
   "outputs": [
    {
     "data": {
      "text/plain": [
       "[<matplotlib.lines.Line2D at 0x7f379d48b210>]"
      ]
     },
     "execution_count": 50,
     "metadata": {},
     "output_type": "execute_result"
    },
    {
     "data": {
      "image/png": "[encoded data removed]",
      "text/plain": [
       "<Figure size 640x480 with 1 Axes>"
      ]
     },
     "metadata": {},
     "output_type": "display_data"
    }
   ],
   "source": [
    "plt.plot(losses)"
   ]
  },
  {
   "cell_type": "markdown",
   "id": "0ecbe472",
   "metadata": {
    "slideshow": {
     "slide_type": "subslide"
    }
   },
   "source": [
    "## Check the solution"
   ]
  },
  {
   "cell_type": "code",
   "execution_count": 51,
   "id": "73278378",
   "metadata": {
    "slideshow": {
     "slide_type": "fragment"
    }
   },
   "outputs": [
    {
     "data": {
      "text/plain": [
       "(array([0.8013393, 3.7280506]), 2.0)"
      ]
     },
     "execution_count": 51,
     "metadata": {},
     "output_type": "execute_result"
    }
   ],
   "source": [
    "true_w, true_b"
   ]
  },
  {
   "cell_type": "code",
   "execution_count": 52,
   "id": "bd42f895",
   "metadata": {
    "slideshow": {
     "slide_type": "fragment"
    }
   },
   "outputs": [
    {
     "data": {
      "text/plain": [
       "array([0.74472655, 3.72220639, 2.15297618])"
      ]
     },
     "execution_count": 52,
     "metadata": {},
     "output_type": "execute_result"
    }
   ],
   "source": [
    "weights[-1]"
   ]
  },
  {
   "cell_type": "code",
   "execution_count": 53,
   "id": "d7de5474",
   "metadata": {
    "slideshow": {
     "slide_type": "fragment"
    }
   },
   "outputs": [],
   "source": [
    "X_train_dummy = np.column_stack((X_train, np.ones(X_train.shape[0])))"
   ]
  },
  {
   "cell_type": "code",
   "execution_count": 55,
   "id": "7affbd1e",
   "metadata": {
    "slideshow": {
     "slide_type": "fragment"
    }
   },
   "outputs": [
    {
     "data": {
      "text/plain": [
       "array([0.74472655, 3.72220639, 2.15297619])"
      ]
     },
     "execution_count": 55,
     "metadata": {},
     "output_type": "execute_result"
    }
   ],
   "source": [
    "np.linalg.lstsq(X_train_dummy, y_train)[0]"
   ]
  }
 ],
 "metadata": {
  "celltoolbar": "Slideshow",
  "kernelspec": {
   "display_name": "Python 3 (ipykernel)",
   "language": "python",
   "name": "python3"
  },
  "language_info": {
   "codemirror_mode": {
    "name": "ipython",
    "version": 3
   },
   "file_extension": ".py",
   "mimetype": "text/x-python",
   "name": "python",
   "nbconvert_exporter": "python",
   "pygments_lexer": "ipython3",
   "version": "3.11.4"
  }
 },
 "nbformat": 4,
 "nbformat_minor": 5
}
